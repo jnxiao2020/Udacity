{
 "cells": [
  {
   "cell_type": "markdown",
   "metadata": {},
   "source": [
    "This is a notebook created to work on the Stock Price Forecasting Project for Udacity Nano Degree Capstone project.\n",
    "Key Steps to follow.\n",
    "1. Downloading Data from Yahoo Finance\n",
    "2. Data Preprocessing and Visulization\n",
    "3. Upload Data to S3\n",
    "4. Train Model\n",
    "5. Model Evaluation\n",
    "6. Benchmark Model Development\n",
    "7. Benchmark Model Evaluation\n",
    "8. Model Deployment\n",
    "9. Create Web App"
   ]
  },
  {
   "cell_type": "markdown",
   "metadata": {},
   "source": [
    "Step 0. Preparation Work"
   ]
  },
  {
   "cell_type": "code",
   "execution_count": 1,
   "metadata": {},
   "outputs": [],
   "source": [
    "import numpy as np\n",
    "import pandas as pd\n",
    "import os"
   ]
  },
  {
   "cell_type": "code",
   "execution_count": 2,
   "metadata": {},
   "outputs": [
    {
     "name": "stdout",
     "output_type": "stream",
     "text": [
      "Requirement already satisfied: pandas-datareader in /home/ec2-user/anaconda3/envs/pytorch_p36/lib/python3.6/site-packages (0.9.0)\n",
      "Requirement already satisfied: lxml in /home/ec2-user/anaconda3/envs/pytorch_p36/lib/python3.6/site-packages (from pandas-datareader) (4.5.0)\n",
      "Requirement already satisfied: pandas>=0.23 in /home/ec2-user/anaconda3/envs/pytorch_p36/lib/python3.6/site-packages (from pandas-datareader) (1.0.3)\n",
      "Requirement already satisfied: requests>=2.19.0 in /home/ec2-user/anaconda3/envs/pytorch_p36/lib/python3.6/site-packages (from pandas-datareader) (2.23.0)\n",
      "Requirement already satisfied: numpy>=1.13.3 in /home/ec2-user/anaconda3/envs/pytorch_p36/lib/python3.6/site-packages (from pandas>=0.23->pandas-datareader) (1.18.1)\n",
      "Requirement already satisfied: python-dateutil>=2.6.1 in /home/ec2-user/anaconda3/envs/pytorch_p36/lib/python3.6/site-packages (from pandas>=0.23->pandas-datareader) (2.8.1)\n",
      "Requirement already satisfied: pytz>=2017.2 in /home/ec2-user/anaconda3/envs/pytorch_p36/lib/python3.6/site-packages (from pandas>=0.23->pandas-datareader) (2019.3)\n",
      "Requirement already satisfied: idna<3,>=2.5 in /home/ec2-user/anaconda3/envs/pytorch_p36/lib/python3.6/site-packages (from requests>=2.19.0->pandas-datareader) (2.9)\n",
      "Requirement already satisfied: chardet<4,>=3.0.2 in /home/ec2-user/anaconda3/envs/pytorch_p36/lib/python3.6/site-packages (from requests>=2.19.0->pandas-datareader) (3.0.4)\n",
      "Requirement already satisfied: urllib3!=1.25.0,!=1.25.1,<1.26,>=1.21.1 in /home/ec2-user/anaconda3/envs/pytorch_p36/lib/python3.6/site-packages (from requests>=2.19.0->pandas-datareader) (1.25.8)\n",
      "Requirement already satisfied: certifi>=2017.4.17 in /home/ec2-user/anaconda3/envs/pytorch_p36/lib/python3.6/site-packages (from requests>=2.19.0->pandas-datareader) (2020.4.5.2)\n",
      "Requirement already satisfied: six>=1.5 in /home/ec2-user/anaconda3/envs/pytorch_p36/lib/python3.6/site-packages (from python-dateutil>=2.6.1->pandas>=0.23->pandas-datareader) (1.14.0)\n",
      "\u001b[33mWARNING: You are using pip version 20.0.2; however, version 20.2.2 is available.\n",
      "You should consider upgrading via the '/home/ec2-user/anaconda3/envs/pytorch_p36/bin/python -m pip install --upgrade pip' command.\u001b[0m\n",
      "Note: you may need to restart the kernel to use updated packages.\n"
     ]
    }
   ],
   "source": [
    "pip install pandas-datareader"
   ]
  },
  {
   "cell_type": "code",
   "execution_count": 3,
   "metadata": {},
   "outputs": [
    {
     "name": "stdout",
     "output_type": "stream",
     "text": [
      "Requirement already satisfied: yfinance in /home/ec2-user/anaconda3/envs/pytorch_p36/lib/python3.6/site-packages (0.1.54)\n",
      "Requirement already satisfied: requests>=2.20 in /home/ec2-user/anaconda3/envs/pytorch_p36/lib/python3.6/site-packages (from yfinance) (2.23.0)\n",
      "Requirement already satisfied: multitasking>=0.0.7 in /home/ec2-user/anaconda3/envs/pytorch_p36/lib/python3.6/site-packages (from yfinance) (0.0.9)\n",
      "Requirement already satisfied: numpy>=1.15 in /home/ec2-user/anaconda3/envs/pytorch_p36/lib/python3.6/site-packages (from yfinance) (1.18.1)\n",
      "Requirement already satisfied: pandas>=0.24 in /home/ec2-user/anaconda3/envs/pytorch_p36/lib/python3.6/site-packages (from yfinance) (1.0.3)\n",
      "Requirement already satisfied: certifi>=2017.4.17 in /home/ec2-user/anaconda3/envs/pytorch_p36/lib/python3.6/site-packages (from requests>=2.20->yfinance) (2020.4.5.2)\n",
      "Requirement already satisfied: urllib3!=1.25.0,!=1.25.1,<1.26,>=1.21.1 in /home/ec2-user/anaconda3/envs/pytorch_p36/lib/python3.6/site-packages (from requests>=2.20->yfinance) (1.25.8)\n",
      "Requirement already satisfied: idna<3,>=2.5 in /home/ec2-user/anaconda3/envs/pytorch_p36/lib/python3.6/site-packages (from requests>=2.20->yfinance) (2.9)\n",
      "Requirement already satisfied: chardet<4,>=3.0.2 in /home/ec2-user/anaconda3/envs/pytorch_p36/lib/python3.6/site-packages (from requests>=2.20->yfinance) (3.0.4)\n",
      "Requirement already satisfied: pytz>=2017.2 in /home/ec2-user/anaconda3/envs/pytorch_p36/lib/python3.6/site-packages (from pandas>=0.24->yfinance) (2019.3)\n",
      "Requirement already satisfied: python-dateutil>=2.6.1 in /home/ec2-user/anaconda3/envs/pytorch_p36/lib/python3.6/site-packages (from pandas>=0.24->yfinance) (2.8.1)\n",
      "Requirement already satisfied: six>=1.5 in /home/ec2-user/anaconda3/envs/pytorch_p36/lib/python3.6/site-packages (from python-dateutil>=2.6.1->pandas>=0.24->yfinance) (1.14.0)\n",
      "\u001b[33mWARNING: You are using pip version 20.0.2; however, version 20.2.2 is available.\n",
      "You should consider upgrading via the '/home/ec2-user/anaconda3/envs/pytorch_p36/bin/python -m pip install --upgrade pip' command.\u001b[0m\n",
      "Note: you may need to restart the kernel to use updated packages.\n"
     ]
    }
   ],
   "source": [
    "pip install yfinance"
   ]
  },
  {
   "cell_type": "markdown",
   "metadata": {},
   "source": [
    "Step 1. Downloading Data from Yahoo Finance"
   ]
  },
  {
   "cell_type": "code",
   "execution_count": 4,
   "metadata": {},
   "outputs": [
    {
     "name": "stdout",
     "output_type": "stream",
     "text": [
      "AXP\n",
      "[*********************100%***********************]  1 of 1 completed\n",
      "          Date       Open       High        Low      Close  Adj Close  \\\n",
      "0   2016-01-04  68.089996  68.180000  66.769997  67.589996  62.533890   \n",
      "1   2016-01-05  67.370003  67.709999  65.669998  66.550003  61.571701   \n",
      "2   2016-01-06  65.239998  65.550003  64.239998  64.419998  59.861889   \n",
      "3   2016-01-07  63.310001  64.250000  63.080002  63.840000  59.322926   \n",
      "4   2016-01-08  64.180000  64.410004  63.570000  63.630001  59.127777   \n",
      "5   2016-01-11  63.740002  64.209999  63.099998  64.050003  59.518074   \n",
      "6   2016-01-12  64.800003  64.900002  63.599998  64.400002  59.843296   \n",
      "7   2016-01-13  63.650002  64.370003  62.230000  62.849998  58.402966   \n",
      "8   2016-01-14  62.849998  63.750000  62.369999  63.290001  58.811840   \n",
      "9   2016-01-15  62.029999  63.049999  61.500000  62.910000  58.458725   \n",
      "10  2016-01-19  63.410000  63.790001  62.240002  62.639999  58.207825   \n",
      "11  2016-01-20  61.540001  63.540001  61.290001  63.029999  58.570240   \n",
      "12  2016-01-21  63.000000  64.320000  62.509998  62.639999  58.207825   \n",
      "13  2016-01-22  58.389999  58.889999  54.139999  55.060001  51.164154   \n",
      "14  2016-01-25  54.459999  55.770000  54.139999  55.020000  51.126995   \n",
      "15  2016-01-26  55.200001  55.740002  54.959999  55.090000  51.192039   \n",
      "16  2016-01-27  55.369999  55.820000  54.419998  54.520000  50.662376   \n",
      "17  2016-01-28  54.680000  54.759998  52.150002  52.880001  49.138412   \n",
      "18  2016-01-29  53.180000  53.709999  53.049999  53.500000  49.714539   \n",
      "19  2016-02-01  53.410000  54.990002  53.000000  54.700001  50.829639   \n",
      "\n",
      "      Volume  \n",
      "0    9248300  \n",
      "1   10809200  \n",
      "2    9752200  \n",
      "3   11323900  \n",
      "4   10003600  \n",
      "5    8157100  \n",
      "6    7560000  \n",
      "7   11291200  \n",
      "8    6664000  \n",
      "9    8643800  \n",
      "10   7652100  \n",
      "11   9043800  \n",
      "12   8992300  \n",
      "13  43783400  \n",
      "14  18498300  \n",
      "15  12844800  \n",
      "16  11044100  \n",
      "17  18015000  \n",
      "18  13981100  \n",
      "19   9861900  \n"
     ]
    }
   ],
   "source": [
    "from pandas_datareader import data as pdr\n",
    "from datetime import date\n",
    "import yfinance as yf\n",
    "yf.pdr_override()\n",
    "import pandas as pd\n",
    "# Tickers list\n",
    "# We can add and delete any ticker from the list to get desired ticker live data\n",
    "ticker_list=['AXP']\n",
    "today = date.today()\n",
    "# We can get data by our choice by giving days bracket\n",
    "start_date= \"2016-01-01\"\n",
    "end_date=\"2020-02-15\"\n",
    "files=[]\n",
    "def getData(ticker):\n",
    "    print(ticker)\n",
    "    data = pdr.get_data_yahoo(ticker, start=start_date, end=end_date)\n",
    "    dataname= ticker+'_'+str(today)\n",
    "    files.append(dataname)\n",
    "    SaveData(data, dataname)\n",
    "# Create a data folder in your current dir.\n",
    "def SaveData(df, filename):\n",
    "    df.to_csv('./data/'+filename+'.csv')\n",
    "#This loop will iterate over ticker list, will pass one ticker to get data, and save that data as file.\n",
    "for tik in ticker_list:\n",
    "    getData(tik)\n",
    "for i in range(0,len(ticker_list)):\n",
    "    df1= pd.read_csv('./data/'+ str(files[i])+'.csv')\n",
    "print (df1.head(20))"
   ]
  },
  {
   "cell_type": "markdown",
   "metadata": {},
   "source": [
    "Step 2. Data Preprocessing and Visulization"
   ]
  },
  {
   "cell_type": "code",
   "execution_count": 5,
   "metadata": {},
   "outputs": [
    {
     "data": {
      "image/png": "[encoded data removed]",
      "text/plain": [
       "<Figure size 1152x576 with 1 Axes>"
      ]
     },
     "metadata": {
      "needs_background": "light"
     },
     "output_type": "display_data"
    }
   ],
   "source": [
    "import matplotlib.pyplot as plt\n",
    "import matplotlib.dates as mdates\n",
    "fig = plt.figure(figsize=(16,8))\n",
    "ax = fig.add_subplot(1,1,1)  \n",
    "plt.plot(df1['Date'], df1['Adj Close'])\n",
    "\n",
    "ax.xaxis.set_major_locator(mdates.MonthLocator(interval=1))   #to get a tick every 1 month\n",
    "\n",
    "plt.title('American Express', fontsize = 18)\n",
    "plt.xlabel('Date', fontsize= 18)\n",
    "plt.ylabel('Close Price USD ($)', fontsize = 18)\n",
    "plt.show()"
   ]
  },
  {
   "cell_type": "code",
   "execution_count": 6,
   "metadata": {},
   "outputs": [
    {
     "name": "stdout",
     "output_type": "stream",
     "text": [
      "(1037, 7)\n",
      "1037\n"
     ]
    },
    {
     "name": "stderr",
     "output_type": "stream",
     "text": [
      "/home/ec2-user/anaconda3/envs/pytorch_p36/lib/python3.6/site-packages/ipykernel/__main__.py:5: SettingWithCopyWarning: \n",
      "A value is trying to be set on a copy of a slice from a DataFrame.\n",
      "Try using .loc[row_indexer,col_indexer] = value instead\n",
      "\n",
      "See the caveats in the documentation: https://pandas.pydata.org/pandas-docs/stable/user_guide/indexing.html#returning-a-view-versus-a-copy\n"
     ]
    }
   ],
   "source": [
    "from sklearn.preprocessing import MinMaxScaler\n",
    "price = df1[['Adj Close']]\n",
    "print(df1.shape)\n",
    "scaler = MinMaxScaler(feature_range=(-1, 1))\n",
    "price['Adj Close'] = scaler.fit_transform(price['Adj Close'].values.reshape(-1,1))\n",
    "print(price.size)"
   ]
  },
  {
   "cell_type": "code",
   "execution_count": 7,
   "metadata": {},
   "outputs": [],
   "source": [
    "test_samp = 0.2\n",
    "def split_data(stock, lookback):\n",
    "    data_raw = stock.to_numpy() # convert to numpy array\n",
    "    data = []\n",
    "    \n",
    "    # create all possible sequences of length seq_len\n",
    "    for index in range(len(data_raw) - lookback): \n",
    "        data.append(data_raw[index: index + lookback])\n",
    "    \n",
    "    data = np.array(data);\n",
    "    test_set_size = int(np.round(test_samp*data.shape[0]));\n",
    "    train_set_size = data.shape[0] - (test_set_size);\n",
    "    \n",
    "    x_train = data[:train_set_size,:-1,:]\n",
    "    y_train = data[:train_set_size,-1,:]\n",
    "    \n",
    "    x_test = data[train_set_size:,:-1]\n",
    "    y_test = data[train_set_size:,-1,:]\n",
    "    \n",
    "    return [x_train, y_train, x_test, y_test]\n",
    "lookback = 30 # choose sequence length\n",
    "train_X, train_y, test_X, test_y = split_data(price, lookback)\n",
    "train_X = train_X.reshape(len(train_X),(lookback-1))\n",
    "test_X = test_X.reshape(len(test_X),(lookback-1))"
   ]
  },
  {
   "cell_type": "code",
   "execution_count": 8,
   "metadata": {},
   "outputs": [
    {
     "name": "stdout",
     "output_type": "stream",
     "text": [
      "[[0.43662854 0.39399395 0.41755529 ... 0.51786381 0.55659618 0.5376804 ]\n",
      " [0.39399395 0.41755529 0.36459829 ... 0.55659618 0.5376804  0.54826426]\n",
      " [0.41755529 0.36459829 0.35517372 ... 0.5376804  0.54826426 0.54353523]\n",
      " ...\n",
      " [0.72696447 0.73127299 0.77200286 ... 0.94038381 0.90784594 0.9174022 ]\n",
      " [0.73127299 0.77200286 0.74356009 ... 0.90784594 0.9174022  0.92627668]\n",
      " [0.77200286 0.74356009 0.73127299 ... 0.9174022  0.92627668 0.94015655]]\n"
     ]
    }
   ],
   "source": [
    "print(test_X)"
   ]
  },
  {
   "cell_type": "markdown",
   "metadata": {},
   "source": [
    "Step 3. Upload Data to S3\n",
    "\n",
    "train_X = torch.from_numpy(train_X).type(torch.Tensor)\n",
    "test_X = torch.from_numpy(test_X).type(torch.Tensor)\n",
    "train_y = torch.from_numpy(train_y).type(torch.Tensor)\n",
    "test_y = torch.from_numpy(test_y).type(torch.Tensor)\n"
   ]
  },
  {
   "cell_type": "code",
   "execution_count": 9,
   "metadata": {},
   "outputs": [],
   "source": [
    "data_dir = './data'\n",
    "filename = 'train.csv'\n",
    "pd.concat([pd.DataFrame(train_y), pd.DataFrame(train_X)], axis=1).dropna() \\\n",
    "        .to_csv(os.path.join(data_dir, filename), header=False, index=False)"
   ]
  },
  {
   "cell_type": "code",
   "execution_count": 10,
   "metadata": {},
   "outputs": [],
   "source": [
    "import sagemaker\n",
    "\n",
    "sagemaker_session = sagemaker.Session()\n",
    "\n",
    "bucket = sagemaker_session.default_bucket()\n",
    "prefix = 'sagemaker/sentiment_rnn'\n",
    "\n",
    "role = sagemaker.get_execution_role()"
   ]
  },
  {
   "cell_type": "code",
   "execution_count": 11,
   "metadata": {},
   "outputs": [],
   "source": [
    "input_data = sagemaker_session.upload_data(path=data_dir, bucket=bucket, key_prefix=prefix)"
   ]
  },
  {
   "cell_type": "code",
   "execution_count": 18,
   "metadata": {},
   "outputs": [],
   "source": [
    "from sagemaker.pytorch import PyTorch\n",
    "role = sagemaker.get_execution_role()\n",
    "estimator = PyTorch(entry_point=\"train.py\",\n",
    "                    source_dir=\"pytorch\",\n",
    "                    role=role,\n",
    "                    framework_version='0.4.0',\n",
    "                    train_instance_count=1,\n",
    "                    train_instance_type='ml.m4.xlarge',\n",
    "                    hyperparameters={\n",
    "                        'input_dim' : 1,\n",
    "                        'hidden_dim': 32,\n",
    "                        'num_layers': 4,\n",
    "                        'output_dim': 1,\n",
    "                        'epochs' : 20\n",
    "                    })"
   ]
  },
  {
   "cell_type": "code",
   "execution_count": 14,
   "metadata": {},
   "outputs": [
    {
     "name": "stdout",
     "output_type": "stream",
     "text": [
      "[[[-0.65430889 -0.67642424 -0.71572328 ... -0.97479749 -1.\n",
      "   -0.9668951 ]]\n",
      "\n",
      " [[-0.67642424 -0.71572328 -0.72811104 ... -1.         -0.9668951\n",
      "   -0.95578894]]\n",
      "\n",
      " [[-0.71572328 -0.72811104 -0.73259641 ... -0.9668951  -0.95578894\n",
      "   -0.94660461]]\n",
      "\n",
      " ...\n",
      "\n",
      " [[ 0.42944784  0.45570214  0.45637534 ...  0.43792233  0.4748529\n",
      "    0.47597887]]\n",
      "\n",
      " [[ 0.45570214  0.45637534  0.43662854 ...  0.4748529   0.47597887\n",
      "    0.51786381]]\n",
      "\n",
      " [[ 0.45637534  0.43662854  0.39399395 ...  0.47597887  0.51786381\n",
      "    0.55659618]]]\n",
      "[[[-0.65430889]\n",
      "  [-0.67642424]\n",
      "  [-0.71572328]\n",
      "  ...\n",
      "  [-0.97479749]\n",
      "  [-1.        ]\n",
      "  [-0.9668951 ]]\n",
      "\n",
      " [[-0.67642424]\n",
      "  [-0.71572328]\n",
      "  [-0.72811104]\n",
      "  ...\n",
      "  [-1.        ]\n",
      "  [-0.9668951 ]\n",
      "  [-0.95578894]]\n",
      "\n",
      " [[-0.71572328]\n",
      "  [-0.72811104]\n",
      "  [-0.73259641]\n",
      "  ...\n",
      "  [-0.9668951 ]\n",
      "  [-0.95578894]\n",
      "  [-0.94660461]]\n",
      "\n",
      " ...\n",
      "\n",
      " [[ 0.42944784]\n",
      "  [ 0.45570214]\n",
      "  [ 0.45637534]\n",
      "  ...\n",
      "  [ 0.43792233]\n",
      "  [ 0.4748529 ]\n",
      "  [ 0.47597887]]\n",
      "\n",
      " [[ 0.45570214]\n",
      "  [ 0.45637534]\n",
      "  [ 0.43662854]\n",
      "  ...\n",
      "  [ 0.4748529 ]\n",
      "  [ 0.47597887]\n",
      "  [ 0.51786381]]\n",
      "\n",
      " [[ 0.45637534]\n",
      "  [ 0.43662854]\n",
      "  [ 0.39399395]\n",
      "  ...\n",
      "  [ 0.47597887]\n",
      "  [ 0.51786381]\n",
      "  [ 0.55659618]]]\n"
     ]
    }
   ],
   "source": [
    "import torch\n",
    "train_data = pd.read_csv(os.path.join(data_dir, \"train.csv\"), header=None, names=None)\n",
    "train_y = torch.from_numpy(train_data[[0]].values).type(torch.Tensor)\n",
    "train_x = train_data.drop([0], axis=1).to_numpy()\n",
    "train_x = train_x.reshape(train_data.shape[0],1,-1)\n",
    "print(train_x)\n",
    "train_x = train_x.reshape(train_data.shape[0],-1,1)\n",
    "print(train_x)\n",
    "\n",
    "train_x = torch.from_numpy(train_x).type(torch.Tensor)\n",
    "train_ds = torch.utils.data.TensorDataset(train_x, train_y)"
   ]
  },
  {
   "cell_type": "code",
   "execution_count": 19,
   "metadata": {},
   "outputs": [
    {
     "name": "stderr",
     "output_type": "stream",
     "text": [
      "'create_image_uri' will be deprecated in favor of 'ImageURIProvider' class in SageMaker Python SDK v2.\n",
      "'s3_input' class will be renamed to 'TrainingInput' in SageMaker Python SDK v2.\n",
      "'create_image_uri' will be deprecated in favor of 'ImageURIProvider' class in SageMaker Python SDK v2.\n"
     ]
    },
    {
     "name": "stdout",
     "output_type": "stream",
     "text": [
      "2020-08-16 01:31:13 Starting - Starting the training job...\n",
      "2020-08-16 01:31:15 Starting - Launching requested ML instances......\n",
      "2020-08-16 01:32:28 Starting - Preparing the instances for training.........\n",
      "2020-08-16 01:33:59 Downloading - Downloading input data\n",
      "2020-08-16 01:33:59 Training - Downloading the training image..\u001b[34mbash: cannot set terminal process group (-1): Inappropriate ioctl for device\u001b[0m\n",
      "\u001b[34mbash: no job control in this shell\u001b[0m\n",
      "\u001b[34m2020-08-16 01:34:22,448 sagemaker-containers INFO     Imported framework sagemaker_pytorch_container.training\u001b[0m\n",
      "\u001b[34m2020-08-16 01:34:22,450 sagemaker-containers INFO     No GPUs detected (normal if no gpus installed)\u001b[0m\n",
      "\u001b[34m2020-08-16 01:34:22,465 sagemaker_pytorch_container.training INFO     Block until all host DNS lookups succeed.\u001b[0m\n",
      "\u001b[34m2020-08-16 01:34:22,468 sagemaker_pytorch_container.training INFO     Invoking user training script.\u001b[0m\n",
      "\u001b[34m2020-08-16 01:34:22,700 sagemaker-containers INFO     Module train does not provide a setup.py. \u001b[0m\n",
      "\u001b[34mGenerating setup.py\u001b[0m\n",
      "\u001b[34m2020-08-16 01:34:22,701 sagemaker-containers INFO     Generating setup.cfg\u001b[0m\n",
      "\u001b[34m2020-08-16 01:34:22,701 sagemaker-containers INFO     Generating MANIFEST.in\u001b[0m\n",
      "\u001b[34m2020-08-16 01:34:22,701 sagemaker-containers INFO     Installing module with the following command:\u001b[0m\n",
      "\u001b[34m/usr/bin/python -m pip install -U . -r requirements.txt\u001b[0m\n",
      "\u001b[34mProcessing /opt/ml/code\u001b[0m\n",
      "\u001b[34mCollecting pandas (from -r requirements.txt (line 1))\u001b[0m\n",
      "\u001b[34m  Downloading https://files.pythonhosted.org/packages/74/24/0cdbf8907e1e3bc5a8da03345c23cbed7044330bb8f73bb12e711a640a00/pandas-0.24.2-cp35-cp35m-manylinux1_x86_64.whl (10.0MB)\u001b[0m\n",
      "\u001b[34mCollecting numpy (from -r requirements.txt (line 2))\n",
      "  Downloading https://files.pythonhosted.org/packages/b5/36/88723426b4ff576809fec7d73594fe17a35c27f8d01f93637637a29ae25b/numpy-1.18.5-cp35-cp35m-manylinux1_x86_64.whl (19.9MB)\u001b[0m\n",
      "\u001b[34mCollecting matplotlib (from -r requirements.txt (line 3))\n",
      "  Downloading https://files.pythonhosted.org/packages/89/61/465fb3bfba684b0f53b5c4829c3c89e86e6fe9fdcdfda93e38f1788090f0/matplotlib-3.0.3-cp35-cp35m-manylinux1_x86_64.whl (13.0MB)\u001b[0m\n",
      "\u001b[34mRequirement already satisfied, skipping upgrade: python-dateutil>=2.5.0 in /usr/local/lib/python3.5/dist-packages (from pandas->-r requirements.txt (line 1)) (2.7.5)\u001b[0m\n",
      "\u001b[34mCollecting pytz>=2011k (from pandas->-r requirements.txt (line 1))\n",
      "  Downloading https://files.pythonhosted.org/packages/4f/a4/879454d49688e2fad93e59d7d4efda580b783c745fd2ec2a3adf87b0808d/pytz-2020.1-py2.py3-none-any.whl (510kB)\u001b[0m\n",
      "\u001b[34mCollecting pyparsing!=2.0.4,!=2.1.2,!=2.1.6,>=2.0.1 (from matplotlib->-r requirements.txt (line 3))\n",
      "  Downloading https://files.pythonhosted.org/packages/8a/bb/488841f56197b13700afd5658fc279a2025a39e22449b7cf29864669b15d/pyparsing-2.4.7-py2.py3-none-any.whl (67kB)\u001b[0m\n",
      "\u001b[34mCollecting cycler>=0.10 (from matplotlib->-r requirements.txt (line 3))\n",
      "  Downloading https://files.pythonhosted.org/packages/f7/d2/e07d3ebb2bd7af696440ce7e754c59dd546ffe1bbe732c8ab68b9c834e61/cycler-0.10.0-py2.py3-none-any.whl\u001b[0m\n",
      "\u001b[34mCollecting kiwisolver>=1.0.1 (from matplotlib->-r requirements.txt (line 3))\n",
      "  Downloading https://files.pythonhosted.org/packages/ee/18/4cd2e84c6aff0c6a50479118083d20b9e676e5175a913c0ea76d700fc244/kiwisolver-1.1.0-cp35-cp35m-manylinux1_x86_64.whl (90kB)\u001b[0m\n",
      "\u001b[34mRequirement already satisfied, skipping upgrade: six>=1.5 in /usr/local/lib/python3.5/dist-packages (from python-dateutil>=2.5.0->pandas->-r requirements.txt (line 1)) (1.11.0)\u001b[0m\n",
      "\u001b[34mRequirement already satisfied, skipping upgrade: setuptools in /usr/local/lib/python3.5/dist-packages (from kiwisolver>=1.0.1->matplotlib->-r requirements.txt (line 3)) (40.6.2)\u001b[0m\n",
      "\u001b[34mBuilding wheels for collected packages: train\n",
      "  Running setup.py bdist_wheel for train: started\n",
      "  Running setup.py bdist_wheel for train: finished with status 'done'\n",
      "  Stored in directory: /tmp/pip-ephem-wheel-cache-aqs9e7gw/wheels/35/24/16/37574d11bf9bde50616c67372a334f94fa8356bc7164af8ca3\u001b[0m\n",
      "\u001b[34mSuccessfully built train\u001b[0m\n",
      "\u001b[34mInstalling collected packages: numpy, pytz, pandas, pyparsing, cycler, kiwisolver, matplotlib, train\n",
      "  Found existing installation: numpy 1.15.4\u001b[0m\n",
      "\u001b[34m    Uninstalling numpy-1.15.4:\u001b[0m\n",
      "\u001b[34m      Successfully uninstalled numpy-1.15.4\u001b[0m\n",
      "\n",
      "2020-08-16 01:34:39 Uploading - Uploading generated training model\u001b[34mSuccessfully installed cycler-0.10.0 kiwisolver-1.1.0 matplotlib-3.0.3 numpy-1.18.5 pandas-0.24.2 pyparsing-2.4.7 pytz-2020.1 train-1.0.0\u001b[0m\n",
      "\u001b[34mYou are using pip version 18.1, however version 20.2.2 is available.\u001b[0m\n",
      "\u001b[34mYou should consider upgrading via the 'pip install --upgrade pip' command.\u001b[0m\n",
      "\u001b[34m2020-08-16 01:34:34,334 sagemaker-containers INFO     No GPUs detected (normal if no gpus installed)\u001b[0m\n",
      "\u001b[34m2020-08-16 01:34:34,348 sagemaker-containers INFO     Invoking user script\n",
      "\u001b[0m\n",
      "\u001b[34mTraining Env:\n",
      "\u001b[0m\n",
      "\u001b[34m{\n",
      "    \"module_dir\": \"s3://sagemaker-us-east-1-171244724694/sagemaker-pytorch-2020-08-16-01-31-12-958/source/sourcedir.tar.gz\",\n",
      "    \"num_cpus\": 4,\n",
      "    \"resource_config\": {\n",
      "        \"hosts\": [\n",
      "            \"algo-1\"\n",
      "        ],\n",
      "        \"current_host\": \"algo-1\",\n",
      "        \"network_interface_name\": \"eth0\"\n",
      "    },\n",
      "    \"network_interface_name\": \"eth0\",\n",
      "    \"channel_input_dirs\": {\n",
      "        \"training\": \"/opt/ml/input/data/training\"\n",
      "    },\n",
      "    \"output_data_dir\": \"/opt/ml/output/data\",\n",
      "    \"hyperparameters\": {\n",
      "        \"hidden_dim\": 32,\n",
      "        \"output_dim\": 1,\n",
      "        \"num_layers\": 4,\n",
      "        \"input_dim\": 1,\n",
      "        \"epochs\": 20\n",
      "    },\n",
      "    \"hosts\": [\n",
      "        \"algo-1\"\n",
      "    ],\n",
      "    \"input_data_config\": {\n",
      "        \"training\": {\n",
      "            \"RecordWrapperType\": \"None\",\n",
      "            \"TrainingInputMode\": \"File\",\n",
      "            \"S3DistributionType\": \"FullyReplicated\"\n",
      "        }\n",
      "    },\n",
      "    \"user_entry_point\": \"train.py\",\n",
      "    \"current_host\": \"algo-1\",\n",
      "    \"model_dir\": \"/opt/ml/model\",\n",
      "    \"job_name\": \"sagemaker-pytorch-2020-08-16-01-31-12-958\",\n",
      "    \"num_gpus\": 0,\n",
      "    \"additional_framework_parameters\": {},\n",
      "    \"output_dir\": \"/opt/ml/output\",\n",
      "    \"log_level\": 20,\n",
      "    \"output_intermediate_dir\": \"/opt/ml/output/intermediate\",\n",
      "    \"module_name\": \"train\",\n",
      "    \"framework_module\": \"sagemaker_pytorch_container.training:main\",\n",
      "    \"input_config_dir\": \"/opt/ml/input/config\",\n",
      "    \"input_dir\": \"/opt/ml/input\"\u001b[0m\n",
      "\u001b[34m}\n",
      "\u001b[0m\n",
      "\u001b[34mEnvironment variables:\n",
      "\u001b[0m\n",
      "\u001b[34mSM_CHANNELS=[\"training\"]\u001b[0m\n",
      "\u001b[34mSM_USER_ENTRY_POINT=train.py\u001b[0m\n",
      "\u001b[34mSM_HP_HIDDEN_DIM=32\u001b[0m\n",
      "\u001b[34mSM_HPS={\"epochs\":20,\"hidden_dim\":32,\"input_dim\":1,\"num_layers\":4,\"output_dim\":1}\u001b[0m\n",
      "\u001b[34mSM_HP_NUM_LAYERS=4\u001b[0m\n",
      "\u001b[34mSM_CHANNEL_TRAINING=/opt/ml/input/data/training\u001b[0m\n",
      "\u001b[34mSM_USER_ARGS=[\"--epochs\",\"20\",\"--hidden_dim\",\"32\",\"--input_dim\",\"1\",\"--num_layers\",\"4\",\"--output_dim\",\"1\"]\u001b[0m\n",
      "\u001b[34mSM_HP_INPUT_DIM=1\u001b[0m\n",
      "\u001b[34mSM_RESOURCE_CONFIG={\"current_host\":\"algo-1\",\"hosts\":[\"algo-1\"],\"network_interface_name\":\"eth0\"}\u001b[0m\n",
      "\u001b[34mPYTHONPATH=/usr/local/bin:/usr/lib/python35.zip:/usr/lib/python3.5:/usr/lib/python3.5/plat-x86_64-linux-gnu:/usr/lib/python3.5/lib-dynload:/usr/local/lib/python3.5/dist-packages:/usr/lib/python3/dist-packages\u001b[0m\n",
      "\u001b[34mSM_NETWORK_INTERFACE_NAME=eth0\u001b[0m\n",
      "\u001b[34mSM_HOSTS=[\"algo-1\"]\u001b[0m\n",
      "\u001b[34mSM_LOG_LEVEL=20\u001b[0m\n",
      "\u001b[34mSM_FRAMEWORK_MODULE=sagemaker_pytorch_container.training:main\u001b[0m\n",
      "\u001b[34mSM_OUTPUT_DATA_DIR=/opt/ml/output/data\u001b[0m\n",
      "\u001b[34mSM_OUTPUT_DIR=/opt/ml/output\u001b[0m\n",
      "\u001b[34mSM_HP_OUTPUT_DIM=1\u001b[0m\n",
      "\u001b[34mSM_OUTPUT_INTERMEDIATE_DIR=/opt/ml/output/intermediate\u001b[0m\n",
      "\u001b[34mSM_INPUT_CONFIG_DIR=/opt/ml/input/config\u001b[0m\n",
      "\u001b[34mSM_MODEL_DIR=/opt/ml/model\u001b[0m\n",
      "\u001b[34mSM_INPUT_DIR=/opt/ml/input\u001b[0m\n",
      "\u001b[34mSM_CURRENT_HOST=algo-1\u001b[0m\n",
      "\u001b[34mSM_NUM_CPUS=4\u001b[0m\n",
      "\u001b[34mSM_NUM_GPUS=0\u001b[0m\n",
      "\u001b[34mSM_MODULE_DIR=s3://sagemaker-us-east-1-171244724694/sagemaker-pytorch-2020-08-16-01-31-12-958/source/sourcedir.tar.gz\u001b[0m\n",
      "\u001b[34mSM_MODULE_NAME=train\u001b[0m\n",
      "\u001b[34mSM_INPUT_DATA_CONFIG={\"training\":{\"RecordWrapperType\":\"None\",\"S3DistributionType\":\"FullyReplicated\",\"TrainingInputMode\":\"File\"}}\u001b[0m\n",
      "\u001b[34mSM_TRAINING_ENV={\"additional_framework_parameters\":{},\"channel_input_dirs\":{\"training\":\"/opt/ml/input/data/training\"},\"current_host\":\"algo-1\",\"framework_module\":\"sagemaker_pytorch_container.training:main\",\"hosts\":[\"algo-1\"],\"hyperparameters\":{\"epochs\":20,\"hidden_dim\":32,\"input_dim\":1,\"num_layers\":4,\"output_dim\":1},\"input_config_dir\":\"/opt/ml/input/config\",\"input_data_config\":{\"training\":{\"RecordWrapperType\":\"None\",\"S3DistributionType\":\"FullyReplicated\",\"TrainingInputMode\":\"File\"}},\"input_dir\":\"/opt/ml/input\",\"job_name\":\"sagemaker-pytorch-2020-08-16-01-31-12-958\",\"log_level\":20,\"model_dir\":\"/opt/ml/model\",\"module_dir\":\"s3://sagemaker-us-east-1-171244724694/sagemaker-pytorch-2020-08-16-01-31-12-958/source/sourcedir.tar.gz\",\"module_name\":\"train\",\"network_interface_name\":\"eth0\",\"num_cpus\":4,\"num_gpus\":0,\"output_data_dir\":\"/opt/ml/output/data\",\"output_dir\":\"/opt/ml/output\",\"output_intermediate_dir\":\"/opt/ml/output/intermediate\",\"resource_config\":{\"current_host\":\"algo-1\",\"hosts\":[\"algo-1\"],\"network_interface_name\":\"eth0\"},\"user_entry_point\":\"train.py\"}\u001b[0m\n",
      "\u001b[34mSM_FRAMEWORK_PARAMS={}\u001b[0m\n",
      "\u001b[34mSM_HP_EPOCHS=20\n",
      "\u001b[0m\n",
      "\u001b[34mInvoking script with the following command:\n",
      "\u001b[0m\n",
      "\u001b[34m/usr/bin/python -m train --epochs 20 --hidden_dim 32 --input_dim 1 --num_layers 4 --output_dim 1\n",
      "\n",
      "\u001b[0m\n",
      "\u001b[34mUsing device cpu.\u001b[0m\n",
      "\u001b[34mGet train data loader.\u001b[0m\n",
      "\u001b[34m2020-08-16 01:34:36,558 sagemaker-containers INFO     Reporting training SUCCESS\u001b[0m\n"
     ]
    },
    {
     "name": "stdout",
     "output_type": "stream",
     "text": [
      "\n",
      "2020-08-16 01:34:46 Completed - Training job completed\n",
      "Training seconds: 61\n",
      "Billable seconds: 61\n"
     ]
    }
   ],
   "source": [
    "estimator.fit({'training': input_data})"
   ]
  },
  {
   "cell_type": "code",
   "execution_count": null,
   "metadata": {},
   "outputs": [],
   "source": [
    "predictor = estimator.deploy(initial_instance_count=1, instance_type='ml.m4.xlarge')"
   ]
  },
  {
   "cell_type": "code",
   "execution_count": null,
   "metadata": {},
   "outputs": [],
   "source": [
    "from sklearn import metrics\n",
    "from math import sqrt\n",
    "train_X2 = train_X.reshape(train_X.shape[0],-1,1).astype(np.float32)\n",
    "test_X2 = test_X.reshape(test_X.shape[0],-1,1).astype(np.float32)\n",
    "print(train_X2.shape)\n",
    "print(test_X2.shape)\n",
    "train_y_preds = predictor.predict(train_X2)\n",
    "test_y_preds = predictor.predict(test_X2)\n",
    "\n",
    "# Verify that model generates the correct number of predictions\n",
    "assert len(train_y_preds)==len(train_y), 'Unexpected number of predictions.'\n",
    "print('Test passed!')\n",
    "assert len(test_y_preds)==len(test_y), 'Unexpected number of predictions.'\n",
    "print('Test passed!')\n",
    "\n",
    "# invert predictions\n",
    "train_y_preds2 = scaler.inverse_transform(train_y_preds)\n",
    "train_y2 = scaler.inverse_transform(train_y)\n",
    "test_y_preds2 = scaler.inverse_transform(test_y_preds)\n",
    "test_y2 = scaler.inverse_transform(test_y)\n",
    "\n",
    "RMSE_train = sqrt(metrics.mean_squared_error(train_y,train_y_preds))\n",
    "RMSE_test = sqrt(metrics.mean_squared_error(test_y,test_y_preds))\n",
    "\n",
    "print('Train Score: %.2f RMSE' % (RMSE_train))\n",
    "print('Test Score: %.2f RMSE' % (RMSE_test))"
   ]
  },
  {
   "cell_type": "code",
   "execution_count": null,
   "metadata": {},
   "outputs": [],
   "source": [
    "import matplotlib.pyplot as plt\n",
    "import matplotlib.dates as mdates\n",
    "fig = plt.figure(figsize=(16,8))\n",
    "ax = fig.add_subplot(1,1,1)  \n",
    "plt.plot(train_y,label = 'Actual')\n",
    "plt.plot(train_y_preds,label = 'Prediction')\n",
    "\n",
    "plt.legend()\n",
    "plt.title('American Express', fontsize = 18)\n",
    "plt.xlabel('Date', fontsize= 18)\n",
    "plt.ylabel('Close Price USD ($)', fontsize = 18)\n",
    "plt.show()"
   ]
  },
  {
   "cell_type": "code",
   "execution_count": null,
   "metadata": {},
   "outputs": [],
   "source": [
    "import matplotlib.pyplot as plt\n",
    "import matplotlib.dates as mdates\n",
    "fig = plt.figure(figsize=(16,8))\n",
    "ax = fig.add_subplot(1,1,1)  \n",
    "plt.plot(test_y2,label = 'Actual')\n",
    "plt.plot(test_y_preds2,label = 'Prediction')\n",
    "\n",
    "plt.legend()\n",
    "plt.title('American Express', fontsize = 18)\n",
    "plt.xlabel('Date', fontsize= 18)\n",
    "plt.ylabel('Close Price USD ($)', fontsize = 18)\n",
    "plt.show()"
   ]
  },
  {
   "cell_type": "code",
   "execution_count": null,
   "metadata": {},
   "outputs": [],
   "source": []
  }
 ],
 "metadata": {
  "kernelspec": {
   "display_name": "conda_pytorch_p36",
   "language": "python",
   "name": "conda_pytorch_p36"
  },
  "language_info": {
   "codemirror_mode": {
    "name": "ipython",
    "version": 3
   },
   "file_extension": ".py",
   "mimetype": "text/x-python",
   "name": "python",
   "nbconvert_exporter": "python",
   "pygments_lexer": "ipython3",
   "version": "3.6.10"
  }
 },
 "nbformat": 4,
 "nbformat_minor": 4
}
